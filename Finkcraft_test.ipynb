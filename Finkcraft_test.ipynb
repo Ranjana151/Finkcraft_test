{
 "cells": [
  {
   "cell_type": "code",
   "execution_count": 78,
   "id": "9de9ef57",
   "metadata": {},
   "outputs": [],
   "source": [
    "import requests\n",
    "from bs4 import BeautifulSoup\n",
    "import csv\n",
    "import pandas as pd"
   ]
  },
  {
   "cell_type": "code",
   "execution_count": 79,
   "id": "4e187c72",
   "metadata": {},
   "outputs": [],
   "source": [
    "start_url = \"https://in.puma.com/in/en/collections/collections-football/collections-football-manchester-city-fc\"\n"
   ]
  },
  {
   "cell_type": "code",
   "execution_count": 80,
   "id": "562e6eaa",
   "metadata": {},
   "outputs": [],
   "source": [
    "web_page = requests.get(start_url)\n",
    "soup = BeautifulSoup(web_page.content, 'html.parser')\n"
   ]
  },
  {
   "cell_type": "code",
   "execution_count": 81,
   "id": "678f31cd",
   "metadata": {},
   "outputs": [],
   "source": [
    "product_links = []\n",
    "for link in soup.find_all('a', class_='product-tile-title product-tile__title pdp-link line-item-limited line-item-limited--2'):\n",
    "    if link['href'] not in product_links:\n",
    "        product_links.append('https://in.puma.com/' + link['href'])"
   ]
  },
  {
   "cell_type": "code",
   "execution_count": 82,
   "id": "a1d80e73",
   "metadata": {},
   "outputs": [
    {
     "data": {
      "text/plain": [
       "[]"
      ]
     },
     "execution_count": 82,
     "metadata": {},
     "output_type": "execute_result"
    }
   ],
   "source": [
    "product_links"
   ]
  },
  {
   "cell_type": "code",
   "execution_count": 83,
   "id": "0526320a",
   "metadata": {},
   "outputs": [],
   "source": [
    "with open('puma_manchester_city.csv', 'w') as csv_file:\n",
    "\n",
    "    writer = csv.writer(csv_file)\n",
    "    writer.writerow(['Product Name', 'Price', 'Description', 'Link'])"
   ]
  },
  {
   "cell_type": "code",
   "execution_count": 84,
   "id": "dcff2bb1",
   "metadata": {},
   "outputs": [],
   "source": [
    "for product_url in product_links:\n",
    "    product_page = requests.get(product_url)\n",
    "    product_soup = BeautifulSoup(product_page.content, 'html.parser')\n",
    "    product_name = product_soup.find('h1', class_='product-name').text.strip()\n",
    "    price = product_soup.find('span', class_='value').tex\n",
    "    product_description = product_soup.find('div', class_='content', itemprop=\"description\").text\n",
    "    writer.writerow([product_name, price, product_description, product_url])"
   ]
  },
  {
   "cell_type": "code",
   "execution_count": null,
   "id": "6b2a765a",
   "metadata": {},
   "outputs": [],
   "source": []
  },
  {
   "cell_type": "code",
   "execution_count": null,
   "id": "518429ec",
   "metadata": {},
   "outputs": [],
   "source": []
  }
 ],
 "metadata": {
  "kernelspec": {
   "display_name": "Python 3 (ipykernel)",
   "language": "python",
   "name": "python3"
  },
  "language_info": {
   "codemirror_mode": {
    "name": "ipython",
    "version": 3
   },
   "file_extension": ".py",
   "mimetype": "text/x-python",
   "name": "python",
   "nbconvert_exporter": "python",
   "pygments_lexer": "ipython3",
   "version": "3.10.8"
  }
 },
 "nbformat": 4,
 "nbformat_minor": 5
}
